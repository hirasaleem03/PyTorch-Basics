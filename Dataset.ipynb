{
 "cells": [
  {
   "cell_type": "markdown",
   "metadata": {},
   "source": [
    "<h1>Simple Dataset</h1> \n"
   ]
  },
  {
   "cell_type": "code",
   "execution_count": 1,
   "metadata": {},
   "outputs": [
    {
     "data": {
      "text/plain": [
       "<torch._C.Generator at 0x16610933270>"
      ]
     },
     "execution_count": 1,
     "metadata": {},
     "output_type": "execute_result"
    }
   ],
   "source": [
    "# These are the libraries will be used for this lab.\n",
    "\n",
    "import torch\n",
    "from torch.utils.data import Dataset\n",
    "torch.manual_seed(1)"
   ]
  },
  {
   "cell_type": "code",
   "execution_count": 5,
   "metadata": {},
   "outputs": [],
   "source": [
    "# Define class for dataset\n",
    "\n",
    "class toy_set(Dataset):\n",
    "    \n",
    "    # Constructor with defult values \n",
    "    def __init__(self, length = 100, transform = None):\n",
    "        self.len = length\n",
    "        self.x = 2 * torch.ones(length, 2)\n",
    "        self.y = torch.ones(length, 1)\n",
    "        self.transform = transform\n",
    "     \n",
    "    # Getter\n",
    "    def __getitem__(self, index):\n",
    "        sample = self.x[index], self.y[index]\n",
    "        if self.transform:\n",
    "            sample = self.transform(sample)     \n",
    "        return sample\n",
    "    \n",
    "    # Get Length\n",
    "    def __len__(self):\n",
    "        return self.len"
   ]
  },
  {
   "cell_type": "code",
   "execution_count": 6,
   "metadata": {},
   "outputs": [
    {
     "name": "stdout",
     "output_type": "stream",
     "text": [
      "Our toy_set object:  <__main__.toy_set object at 0x00000166135055C8>\n",
      "Value on index 0 of our toy_set object:  (tensor([2., 2.]), tensor([1.]))\n",
      "Our toy_set length:  100\n"
     ]
    }
   ],
   "source": [
    "# Create Dataset Object. Find out the value on index 1. Find out the length of Dataset Object.\n",
    "\n",
    "our_dataset = toy_set()\n",
    "print(\"Our toy_set object: \", our_dataset)\n",
    "print(\"Value on index 0 of our toy_set object: \", our_dataset[0])\n",
    "print(\"Our toy_set length: \", len(our_dataset))"
   ]
  },
  {
   "cell_type": "code",
   "execution_count": 7,
   "metadata": {},
   "outputs": [
    {
     "name": "stdout",
     "output_type": "stream",
     "text": [
      "index:  0 ; x: tensor([2., 2.]) ; y: tensor([1.])\n",
      "index:  1 ; x: tensor([2., 2.]) ; y: tensor([1.])\n",
      "index:  2 ; x: tensor([2., 2.]) ; y: tensor([1.])\n"
     ]
    }
   ],
   "source": [
    "# Use loop to print out first 3 elements in dataset\n",
    "\n",
    "for i in range(3):\n",
    "    x, y=our_dataset[i]\n",
    "    print(\"index: \", i, '; x:', x, '; y:', y)"
   ]
  },
  {
   "cell_type": "code",
   "execution_count": 8,
   "metadata": {},
   "outputs": [
    {
     "name": "stdout",
     "output_type": "stream",
     "text": [
      " x: tensor([2., 2.]) y: tensor([1.])\n",
      " x: tensor([2., 2.]) y: tensor([1.])\n",
      " x: tensor([2., 2.]) y: tensor([1.])\n",
      " x: tensor([2., 2.]) y: tensor([1.])\n",
      " x: tensor([2., 2.]) y: tensor([1.])\n",
      " x: tensor([2., 2.]) y: tensor([1.])\n",
      " x: tensor([2., 2.]) y: tensor([1.])\n",
      " x: tensor([2., 2.]) y: tensor([1.])\n",
      " x: tensor([2., 2.]) y: tensor([1.])\n",
      " x: tensor([2., 2.]) y: tensor([1.])\n",
      " x: tensor([2., 2.]) y: tensor([1.])\n",
      " x: tensor([2., 2.]) y: tensor([1.])\n",
      " x: tensor([2., 2.]) y: tensor([1.])\n",
      " x: tensor([2., 2.]) y: tensor([1.])\n",
      " x: tensor([2., 2.]) y: tensor([1.])\n",
      " x: tensor([2., 2.]) y: tensor([1.])\n",
      " x: tensor([2., 2.]) y: tensor([1.])\n",
      " x: tensor([2., 2.]) y: tensor([1.])\n",
      " x: tensor([2., 2.]) y: tensor([1.])\n",
      " x: tensor([2., 2.]) y: tensor([1.])\n",
      " x: tensor([2., 2.]) y: tensor([1.])\n",
      " x: tensor([2., 2.]) y: tensor([1.])\n",
      " x: tensor([2., 2.]) y: tensor([1.])\n",
      " x: tensor([2., 2.]) y: tensor([1.])\n",
      " x: tensor([2., 2.]) y: tensor([1.])\n",
      " x: tensor([2., 2.]) y: tensor([1.])\n",
      " x: tensor([2., 2.]) y: tensor([1.])\n",
      " x: tensor([2., 2.]) y: tensor([1.])\n",
      " x: tensor([2., 2.]) y: tensor([1.])\n",
      " x: tensor([2., 2.]) y: tensor([1.])\n",
      " x: tensor([2., 2.]) y: tensor([1.])\n",
      " x: tensor([2., 2.]) y: tensor([1.])\n",
      " x: tensor([2., 2.]) y: tensor([1.])\n",
      " x: tensor([2., 2.]) y: tensor([1.])\n",
      " x: tensor([2., 2.]) y: tensor([1.])\n",
      " x: tensor([2., 2.]) y: tensor([1.])\n",
      " x: tensor([2., 2.]) y: tensor([1.])\n",
      " x: tensor([2., 2.]) y: tensor([1.])\n",
      " x: tensor([2., 2.]) y: tensor([1.])\n",
      " x: tensor([2., 2.]) y: tensor([1.])\n",
      " x: tensor([2., 2.]) y: tensor([1.])\n",
      " x: tensor([2., 2.]) y: tensor([1.])\n",
      " x: tensor([2., 2.]) y: tensor([1.])\n",
      " x: tensor([2., 2.]) y: tensor([1.])\n",
      " x: tensor([2., 2.]) y: tensor([1.])\n",
      " x: tensor([2., 2.]) y: tensor([1.])\n",
      " x: tensor([2., 2.]) y: tensor([1.])\n",
      " x: tensor([2., 2.]) y: tensor([1.])\n",
      " x: tensor([2., 2.]) y: tensor([1.])\n",
      " x: tensor([2., 2.]) y: tensor([1.])\n",
      " x: tensor([2., 2.]) y: tensor([1.])\n",
      " x: tensor([2., 2.]) y: tensor([1.])\n",
      " x: tensor([2., 2.]) y: tensor([1.])\n",
      " x: tensor([2., 2.]) y: tensor([1.])\n",
      " x: tensor([2., 2.]) y: tensor([1.])\n",
      " x: tensor([2., 2.]) y: tensor([1.])\n",
      " x: tensor([2., 2.]) y: tensor([1.])\n",
      " x: tensor([2., 2.]) y: tensor([1.])\n",
      " x: tensor([2., 2.]) y: tensor([1.])\n",
      " x: tensor([2., 2.]) y: tensor([1.])\n",
      " x: tensor([2., 2.]) y: tensor([1.])\n",
      " x: tensor([2., 2.]) y: tensor([1.])\n",
      " x: tensor([2., 2.]) y: tensor([1.])\n",
      " x: tensor([2., 2.]) y: tensor([1.])\n",
      " x: tensor([2., 2.]) y: tensor([1.])\n",
      " x: tensor([2., 2.]) y: tensor([1.])\n",
      " x: tensor([2., 2.]) y: tensor([1.])\n",
      " x: tensor([2., 2.]) y: tensor([1.])\n",
      " x: tensor([2., 2.]) y: tensor([1.])\n",
      " x: tensor([2., 2.]) y: tensor([1.])\n",
      " x: tensor([2., 2.]) y: tensor([1.])\n",
      " x: tensor([2., 2.]) y: tensor([1.])\n",
      " x: tensor([2., 2.]) y: tensor([1.])\n",
      " x: tensor([2., 2.]) y: tensor([1.])\n",
      " x: tensor([2., 2.]) y: tensor([1.])\n",
      " x: tensor([2., 2.]) y: tensor([1.])\n",
      " x: tensor([2., 2.]) y: tensor([1.])\n",
      " x: tensor([2., 2.]) y: tensor([1.])\n",
      " x: tensor([2., 2.]) y: tensor([1.])\n",
      " x: tensor([2., 2.]) y: tensor([1.])\n",
      " x: tensor([2., 2.]) y: tensor([1.])\n",
      " x: tensor([2., 2.]) y: tensor([1.])\n",
      " x: tensor([2., 2.]) y: tensor([1.])\n",
      " x: tensor([2., 2.]) y: tensor([1.])\n",
      " x: tensor([2., 2.]) y: tensor([1.])\n",
      " x: tensor([2., 2.]) y: tensor([1.])\n",
      " x: tensor([2., 2.]) y: tensor([1.])\n",
      " x: tensor([2., 2.]) y: tensor([1.])\n",
      " x: tensor([2., 2.]) y: tensor([1.])\n",
      " x: tensor([2., 2.]) y: tensor([1.])\n",
      " x: tensor([2., 2.]) y: tensor([1.])\n",
      " x: tensor([2., 2.]) y: tensor([1.])\n",
      " x: tensor([2., 2.]) y: tensor([1.])\n",
      " x: tensor([2., 2.]) y: tensor([1.])\n",
      " x: tensor([2., 2.]) y: tensor([1.])\n",
      " x: tensor([2., 2.]) y: tensor([1.])\n",
      " x: tensor([2., 2.]) y: tensor([1.])\n",
      " x: tensor([2., 2.]) y: tensor([1.])\n",
      " x: tensor([2., 2.]) y: tensor([1.])\n",
      " x: tensor([2., 2.]) y: tensor([1.])\n"
     ]
    }
   ],
   "source": [
    "for x,y in our_dataset:\n",
    "    print(' x:', x, 'y:', y)"
   ]
  },
  {
   "cell_type": "markdown",
   "metadata": {},
   "source": [
    "Try to create an <code>toy_set</code> object with length <b>50</b>. Print out the length of your object.\n"
   ]
  },
  {
   "cell_type": "code",
   "execution_count": 9,
   "metadata": {},
   "outputs": [
    {
     "name": "stdout",
     "output_type": "stream",
     "text": [
      "x:tensor([2., 2.]), y:tensor([1.])\n",
      "x:tensor([2., 2.]), y:tensor([1.])\n",
      "x:tensor([2., 2.]), y:tensor([1.])\n",
      "x:tensor([2., 2.]), y:tensor([1.])\n",
      "x:tensor([2., 2.]), y:tensor([1.])\n",
      "x:tensor([2., 2.]), y:tensor([1.])\n",
      "x:tensor([2., 2.]), y:tensor([1.])\n",
      "x:tensor([2., 2.]), y:tensor([1.])\n",
      "x:tensor([2., 2.]), y:tensor([1.])\n",
      "x:tensor([2., 2.]), y:tensor([1.])\n",
      "x:tensor([2., 2.]), y:tensor([1.])\n",
      "x:tensor([2., 2.]), y:tensor([1.])\n",
      "x:tensor([2., 2.]), y:tensor([1.])\n",
      "x:tensor([2., 2.]), y:tensor([1.])\n",
      "x:tensor([2., 2.]), y:tensor([1.])\n",
      "x:tensor([2., 2.]), y:tensor([1.])\n",
      "x:tensor([2., 2.]), y:tensor([1.])\n",
      "x:tensor([2., 2.]), y:tensor([1.])\n",
      "x:tensor([2., 2.]), y:tensor([1.])\n",
      "x:tensor([2., 2.]), y:tensor([1.])\n",
      "x:tensor([2., 2.]), y:tensor([1.])\n",
      "x:tensor([2., 2.]), y:tensor([1.])\n",
      "x:tensor([2., 2.]), y:tensor([1.])\n",
      "x:tensor([2., 2.]), y:tensor([1.])\n",
      "x:tensor([2., 2.]), y:tensor([1.])\n",
      "x:tensor([2., 2.]), y:tensor([1.])\n",
      "x:tensor([2., 2.]), y:tensor([1.])\n",
      "x:tensor([2., 2.]), y:tensor([1.])\n",
      "x:tensor([2., 2.]), y:tensor([1.])\n",
      "x:tensor([2., 2.]), y:tensor([1.])\n",
      "x:tensor([2., 2.]), y:tensor([1.])\n",
      "x:tensor([2., 2.]), y:tensor([1.])\n",
      "x:tensor([2., 2.]), y:tensor([1.])\n",
      "x:tensor([2., 2.]), y:tensor([1.])\n",
      "x:tensor([2., 2.]), y:tensor([1.])\n",
      "x:tensor([2., 2.]), y:tensor([1.])\n",
      "x:tensor([2., 2.]), y:tensor([1.])\n",
      "x:tensor([2., 2.]), y:tensor([1.])\n",
      "x:tensor([2., 2.]), y:tensor([1.])\n",
      "x:tensor([2., 2.]), y:tensor([1.])\n",
      "x:tensor([2., 2.]), y:tensor([1.])\n",
      "x:tensor([2., 2.]), y:tensor([1.])\n",
      "x:tensor([2., 2.]), y:tensor([1.])\n",
      "x:tensor([2., 2.]), y:tensor([1.])\n",
      "x:tensor([2., 2.]), y:tensor([1.])\n",
      "x:tensor([2., 2.]), y:tensor([1.])\n",
      "x:tensor([2., 2.]), y:tensor([1.])\n",
      "x:tensor([2., 2.]), y:tensor([1.])\n",
      "x:tensor([2., 2.]), y:tensor([1.])\n",
      "x:tensor([2., 2.]), y:tensor([1.])\n"
     ]
    }
   ],
   "source": [
    "# Create dataset of length 50\n",
    "dataset = toy_set(length=50)\n",
    "\n",
    "for x,y in dataset:\n",
    "    print('x:{}, y:{}'.format(x,y))"
   ]
  },
  {
   "cell_type": "markdown",
   "metadata": {},
   "source": [
    "<h2 id=\"Transforms\">Transforms</h2>\n"
   ]
  },
  {
   "cell_type": "code",
   "execution_count": 10,
   "metadata": {},
   "outputs": [],
   "source": [
    "# Create tranform class add_mult\n",
    "\n",
    "class add_mult(object):\n",
    "    \n",
    "    # Constructor\n",
    "    def __init__(self, addx = 1, muly = 2):\n",
    "        self.addx = addx\n",
    "        self.muly = muly\n",
    "    \n",
    "    # Executor\n",
    "    def __call__(self, sample):\n",
    "        x = sample[0]\n",
    "        y = sample[1]\n",
    "        x = x + self.addx\n",
    "        y = y * self.muly\n",
    "        sample = x, y\n",
    "        return sample"
   ]
  },
  {
   "cell_type": "code",
   "execution_count": 14,
   "metadata": {},
   "outputs": [],
   "source": [
    "# Create an add_mult transform object, and an toy_set object\n",
    "\n",
    "a_m = add_mult()\n",
    "data_set = toy_set(length=5)\n",
    "cust_data_set = toy_set(length=5, transform = a_m)"
   ]
  },
  {
   "cell_type": "code",
   "execution_count": 15,
   "metadata": {},
   "outputs": [
    {
     "name": "stdout",
     "output_type": "stream",
     "text": [
      "Index:  0 Original x:  tensor([2., 2.]) Original y:  tensor([1.])\n",
      "Index:  0 Transformed x_: tensor([3., 3.]) Transformed y_: tensor([2.])\n",
      "Index:  1 Original x:  tensor([2., 2.]) Original y:  tensor([1.])\n",
      "Index:  1 Transformed x_: tensor([3., 3.]) Transformed y_: tensor([2.])\n",
      "Index:  2 Original x:  tensor([2., 2.]) Original y:  tensor([1.])\n",
      "Index:  2 Transformed x_: tensor([3., 3.]) Transformed y_: tensor([2.])\n",
      "Index:  3 Original x:  tensor([2., 2.]) Original y:  tensor([1.])\n",
      "Index:  3 Transformed x_: tensor([3., 3.]) Transformed y_: tensor([2.])\n",
      "Index:  4 Original x:  tensor([2., 2.]) Original y:  tensor([1.])\n",
      "Index:  4 Transformed x_: tensor([3., 3.]) Transformed y_: tensor([2.])\n"
     ]
    }
   ],
   "source": [
    "# Use loop to print out first 10 elements in dataset\n",
    "\n",
    "for i in range(5):\n",
    "    x, y = data_set[i]\n",
    "    print('Index: ', i, 'Original x: ', x, 'Original y: ', y)\n",
    "    x_, y_ = cust_data_set[i]\n",
    "    print('Index: ', i, 'Transformed x_:', x_, 'Transformed y_:', y_)"
   ]
  },
  {
   "cell_type": "markdown",
   "metadata": {},
   "source": [
    "<h2 id=\"Compose\">Compose</h2>\n"
   ]
  },
  {
   "cell_type": "code",
   "execution_count": 16,
   "metadata": {},
   "outputs": [],
   "source": [
    "from torchvision import transforms"
   ]
  },
  {
   "cell_type": "code",
   "execution_count": 17,
   "metadata": {},
   "outputs": [],
   "source": [
    "# Create tranform class mult\n",
    "\n",
    "class mult(object):\n",
    "    \n",
    "    # Constructor\n",
    "    def __init__(self, mult = 100):\n",
    "        self.mult = mult\n",
    "        \n",
    "    # Executor\n",
    "    def __call__(self, sample):\n",
    "        x = sample[0]\n",
    "        y = sample[1]\n",
    "        x = x * self.mult\n",
    "        y = y * self.mult\n",
    "        sample = x, y\n",
    "        return sample"
   ]
  },
  {
   "cell_type": "code",
   "execution_count": 18,
   "metadata": {},
   "outputs": [
    {
     "name": "stdout",
     "output_type": "stream",
     "text": [
      "The combination of transforms (Compose):  Compose(\n",
      "    <__main__.add_mult object at 0x000001661483F088>\n",
      "    <__main__.mult object at 0x000001661483F108>\n",
      ")\n"
     ]
    }
   ],
   "source": [
    "# Combine the add_mult() and mult()\n",
    "\n",
    "data_transform = transforms.Compose([add_mult(), mult()])\n",
    "print(\"The combination of transforms (Compose): \", data_transform)\n"
   ]
  },
  {
   "cell_type": "code",
   "execution_count": 20,
   "metadata": {},
   "outputs": [
    {
     "data": {
      "text/plain": [
       "(tensor([300., 300.]), tensor([200.]))"
      ]
     },
     "execution_count": 20,
     "metadata": {},
     "output_type": "execute_result"
    }
   ],
   "source": [
    "data_transform(data_set[0])"
   ]
  },
  {
   "cell_type": "code",
   "execution_count": 19,
   "metadata": {},
   "outputs": [],
   "source": [
    "# Create a new toy_set object with compose object as transform\n",
    "\n",
    "compose_data_set = toy_set(length=10, transform = data_transform)"
   ]
  },
  {
   "cell_type": "code",
   "execution_count": 21,
   "metadata": {},
   "outputs": [
    {
     "name": "stdout",
     "output_type": "stream",
     "text": [
      "Index:  0 Original x:  tensor([2., 2.]) Original y:  tensor([1.])\n",
      "Index:  0 Transformed x_: tensor([3., 3.]) Transformed y_: tensor([2.])\n",
      "Index:  0 Compose Transformed x_co:  tensor([300., 300.]) Compose Transformed y_co:  tensor([200.])\n",
      "Index:  1 Original x:  tensor([2., 2.]) Original y:  tensor([1.])\n",
      "Index:  1 Transformed x_: tensor([3., 3.]) Transformed y_: tensor([2.])\n",
      "Index:  1 Compose Transformed x_co:  tensor([300., 300.]) Compose Transformed y_co:  tensor([200.])\n",
      "Index:  2 Original x:  tensor([2., 2.]) Original y:  tensor([1.])\n",
      "Index:  2 Transformed x_: tensor([3., 3.]) Transformed y_: tensor([2.])\n",
      "Index:  2 Compose Transformed x_co:  tensor([300., 300.]) Compose Transformed y_co:  tensor([200.])\n"
     ]
    }
   ],
   "source": [
    "# Use loop to print out first 3 elements in dataset\n",
    "\n",
    "for i in range(3):\n",
    "    x, y = data_set[i]\n",
    "    print('Index: ', i, 'Original x: ', x, 'Original y: ', y)\n",
    "    x_, y_ = cust_data_set[i]\n",
    "    print('Index: ', i, 'Transformed x_:', x_, 'Transformed y_:', y_)\n",
    "    x_co, y_co = compose_data_set[i]\n",
    "    print('Index: ', i, 'Compose Transformed x_co: ', x_co ,'Compose Transformed y_co: ',y_co)"
   ]
  },
  {
   "cell_type": "code",
   "execution_count": 23,
   "metadata": {},
   "outputs": [
    {
     "name": "stdout",
     "output_type": "stream",
     "text": [
      "x: tensor([201., 201.]), y: tensor([200.])\n",
      "x: tensor([201., 201.]), y: tensor([200.])\n",
      "x: tensor([201., 201.]), y: tensor([200.])\n",
      "x: tensor([201., 201.]), y: tensor([200.])\n",
      "x: tensor([201., 201.]), y: tensor([200.])\n",
      "x: tensor([201., 201.]), y: tensor([200.])\n",
      "x: tensor([201., 201.]), y: tensor([200.])\n",
      "x: tensor([201., 201.]), y: tensor([200.])\n",
      "x: tensor([201., 201.]), y: tensor([200.])\n",
      "x: tensor([201., 201.]), y: tensor([200.])\n"
     ]
    }
   ],
   "source": [
    "# Practice: Make a compose as mult() execute first and then add_mult(). Apply the compose on toy_set dataset. Print out the first 3 elements in the transformed dataset.\n",
    "\n",
    "# Type your code here.\n",
    "\n",
    "prac_data_transform = transforms.Compose([mult(), add_mult()])\n",
    "prac_data_set = toy_set(length=10, transform=prac_data_transform)\n",
    "\n",
    "for x,y in prac_data_set:\n",
    "    print('x: {}, y: {}'.format(x,y))"
   ]
  }
 ],
 "metadata": {
  "kernelspec": {
   "display_name": "Python 3",
   "language": "python",
   "name": "python3"
  },
  "language_info": {
   "codemirror_mode": {
    "name": "ipython",
    "version": 3
   },
   "file_extension": ".py",
   "mimetype": "text/x-python",
   "name": "python",
   "nbconvert_exporter": "python",
   "pygments_lexer": "ipython3",
   "version": "3.7.6"
  }
 },
 "nbformat": 4,
 "nbformat_minor": 2
}
